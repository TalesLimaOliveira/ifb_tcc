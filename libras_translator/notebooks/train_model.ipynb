{
 "cells": [
  {
   "cell_type": "markdown",
   "id": "504c4737",
   "metadata": {},
   "source": [
    "# Reconhecimento de Sinais em LIBRAS com Landmarks de Mãos"
   ]
  },
  {
   "cell_type": "markdown",
   "id": "b9aae0f2",
   "metadata": {},
   "source": [
    "## 1. Instalação e Imports"
   ]
  },
  {
   "cell_type": "markdown",
   "id": "49ccd088",
   "metadata": {},
   "source": [
    "Instale as dependências (execute apenas se necessário)\n",
    "> !pip install opencv-python mediapipe pandas numpy tensorflow pyarrow scikit-learn"
   ]
  },
  {
   "cell_type": "code",
   "execution_count": null,
   "id": "c98811a0",
   "metadata": {},
   "outputs": [],
   "source": [
    "import pandas as pd\n",
    "import numpy as np\n",
    "from src.dataset_utils import load_metadata, load_landmarks\n",
    "from src.model import build_transformer_model\n",
    "from sklearn.preprocessing import LabelEncoder\n",
    "from tensorflow.keras.utils import to_categorical\n",
    "from model.src.preprocessing import preprocess_landmarks\n",
    "import matplotlib.pyplot as plt"
   ]
  },
  {
   "cell_type": "markdown",
   "id": "75357f9b",
   "metadata": {},
   "source": [
    "## 2. Carregar Metadados"
   ]
  },
  {
   "cell_type": "code",
   "execution_count": null,
   "id": "0071ab36",
   "metadata": {},
   "outputs": [],
   "source": [
    "MODEL_PATH = \"../saved_models/model_libras.h5\"\n",
    "ENCODER_PATH = \"../saved_models/label_encoder.pkl\""
   ]
  },
  {
   "cell_type": "code",
   "execution_count": null,
   "id": "b9248389",
   "metadata": {},
   "outputs": [],
   "source": [
    "metadata = load_metadata('../data/train.csv')\n",
    "print(metadata.head())"
   ]
  },
  {
   "cell_type": "markdown",
   "id": "92943c80",
   "metadata": {},
   "source": [
    "## 3. Codificar Labels"
   ]
  },
  {
   "cell_type": "code",
   "execution_count": null,
   "id": "07b26288",
   "metadata": {},
   "outputs": [],
   "source": [
    "label_encoder = LabelEncoder()\n",
    "metadata['label_encoded'] = label_encoder.fit_transform(metadata['label'])\n",
    "num_classes = len(label_encoder.classes_)\n",
    "print(\"Classes:\", label_encoder.classes_)"
   ]
  },
  {
   "cell_type": "markdown",
   "id": "5d566961",
   "metadata": {},
   "source": [
    "## 4. Carregar Landmarks e Preparar Dados"
   ]
  },
  {
   "cell_type": "code",
   "execution_count": null,
   "id": "de871da9",
   "metadata": {},
   "outputs": [],
   "source": [
    "MAX_FRAMES = 30  # Ajuste conforme a duração média dos seus vídeos\n",
    "\n",
    "X = []\n",
    "y = []\n",
    "\n",
    "for _, row in metadata.iterrows():\n",
    "    df = load_landmarks(row['path'])\n",
    "    df = df.fillna(0)\n",
    "    arr = df.drop(columns=['frame'], errors='ignore').values\n",
    "    # Padronizar para MAX_FRAMES frames\n",
    "    if len(arr) >= MAX_FRAMES:\n",
    "        arr = arr[:MAX_FRAMES]\n",
    "    else:\n",
    "        arr = np.pad(arr, ((0, MAX_FRAMES - len(arr)), (0, 0)))\n",
    "    X.append(arr)\n",
    "    y.append(row['label_encoded'])\n",
    "\n",
    "X = np.stack(X)\n",
    "y = to_categorical(y, num_classes=num_classes)\n",
    "\n",
    "print(\"Shape X:\", X.shape)\n",
    "print(\"Shape y:\", y.shape)"
   ]
  },
  {
   "cell_type": "code",
   "execution_count": null,
   "id": "84cf9542",
   "metadata": {},
   "outputs": [],
   "source": [
    "from tensorflow.keras.models import load_model\n",
    "import pickle\n",
    "\n",
    "model = load_model('saved_models/model_libras.h5')\n",
    "with open('saved_models/label_encoder.pkl', 'rb') as f:\n",
    "    label_encoder = pickle.load(f)\n",
    "\n",
    "# Pré-processar um novo arquivo de landmarks\n",
    "from model.src.preprocessing import preprocess_landmarks\n",
    "df = pd.read_parquet('caminho/para/novo_landmark.parquet')\n",
    "features = preprocess_landmarks(df)\n",
    "pred = model.predict(features.reshape(1, -1))\n",
    "label = label_encoder.inverse_transform([pred.argmax()])[0]\n",
    "print(\"Predição:\", label)"
   ]
  },
  {
   "cell_type": "markdown",
   "id": "5563a1c0",
   "metadata": {},
   "source": [
    "## 5. Dividir em Treino e Validação"
   ]
  },
  {
   "cell_type": "code",
   "execution_count": null,
   "id": "35b87ca1",
   "metadata": {},
   "outputs": [],
   "source": [
    "from sklearn.model_selection import train_test_split\n",
    "\n",
    "X_train, X_val, y_train, y_val = train_test_split(\n",
    "    X, y, test_size=0.2, random_state=42, stratify=y\n",
    ")\n",
    "\n",
    "print(\"Treino:\", X_train.shape, \"Validação:\", X_val.shape)"
   ]
  },
  {
   "cell_type": "markdown",
   "id": "c9631f28",
   "metadata": {},
   "source": [
    "## 6. Construir e Compilar o Modelo"
   ]
  },
  {
   "cell_type": "code",
   "execution_count": null,
   "id": "5cdd4d41",
   "metadata": {},
   "outputs": [],
   "source": [
    "input_shape = X_train.shape[1:]  # (frames, features)\n",
    "model = build_transformer_model(input_shape, num_classes)\n",
    "model.compile(optimizer='adam', loss='categorical_crossentropy', metrics=['accuracy'])\n",
    "model.summary()"
   ]
  },
  {
   "cell_type": "markdown",
   "id": "42de34ca",
   "metadata": {},
   "source": [
    "## 7. Treinar o Modelo"
   ]
  },
  {
   "cell_type": "code",
   "execution_count": null,
   "id": "4c81437b",
   "metadata": {},
   "outputs": [],
   "source": [
    "history = model.fit(\n",
    "    X_train, y_train,\n",
    "    validation_data=(X_val, y_val),\n",
    "    epochs=30,\n",
    "    batch_size=8\n",
    ")"
   ]
  },
  {
   "cell_type": "markdown",
   "id": "c6dec5fe",
   "metadata": {},
   "source": [
    "## 8. Avaliar o Modelo"
   ]
  },
  {
   "cell_type": "code",
   "execution_count": null,
   "id": "ab335af0",
   "metadata": {},
   "outputs": [],
   "source": [
    "loss, acc = model.evaluate(X_test, y_test)\n",
    "print(f\"Acurácia: {acc:.2%}\")"
   ]
  },
  {
   "cell_type": "code",
   "execution_count": null,
   "id": "7b53865d",
   "metadata": {},
   "outputs": [],
   "source": [
    "plt.plot(history.history['accuracy'], label='Treino')\n",
    "plt.plot(history.history['val_accuracy'], label='Validação')\n",
    "plt.xlabel('Época')\n",
    "plt.ylabel('Acurácia')\n",
    "plt.legend()\n",
    "plt.show()"
   ]
  },
  {
   "cell_type": "markdown",
   "id": "25a6111f",
   "metadata": {},
   "source": [
    "## 9. Salvar o Modelo e o Encoder"
   ]
  },
  {
   "cell_type": "code",
   "execution_count": null,
   "id": "0b04fae3",
   "metadata": {},
   "outputs": [],
   "source": [
    "model.save('../saved_models/model_libras.h5')\n",
    "import pickle\n",
    "with open('../saved_models/label_encoder.pkl', 'wb') as f:\n",
    "    pickle.dump(label_encoder, f)"
   ]
  },
  {
   "cell_type": "markdown",
   "id": "431df19c",
   "metadata": {},
   "source": [
    "## 10. Inferência em Novos Vídeos"
   ]
  },
  {
   "cell_type": "code",
   "execution_count": null,
   "id": "ee76a6b4",
   "metadata": {},
   "outputs": [],
   "source": [
    "def predict_landmarks(landmarks_array):\n",
    "    arr = landmarks_array\n",
    "    if len(arr) >= MAX_FRAMES:\n",
    "        arr = arr[:MAX_FRAMES]\n",
    "    else:\n",
    "        arr = np.pad(arr, ((0, MAX_FRAMES - len(arr)), (0, 0)))\n",
    "    arr = np.expand_dims(arr, axis=0)\n",
    "    pred = model.predict(arr)\n",
    "    label_idx = np.argmax(pred)\n",
    "    return label_encoder.inverse_transform([label_idx])[0]"
   ]
  },
  {
   "cell_type": "markdown",
   "id": "b9403b19",
   "metadata": {},
   "source": [
    "# Exemplo de uso:"
   ]
  },
  {
   "cell_type": "code",
   "execution_count": null,
   "id": "cc7bca3d",
   "metadata": {},
   "outputs": [],
   "source": [
    "# df_new = load_landmarks('CAMINHO/DO/SEU/ARQUIVO.parquet')\n",
    "# print(predict_landmarks(df_new.drop(columns=['frame'], errors='ignore').values))"
   ]
  }
 ],
 "metadata": {
  "kernelspec": {
   "display_name": "Python 3",
   "language": "python",
   "name": "python3"
  },
  "language_info": {
   "name": "python",
   "version": "3.13.3"
  }
 },
 "nbformat": 4,
 "nbformat_minor": 5
}
